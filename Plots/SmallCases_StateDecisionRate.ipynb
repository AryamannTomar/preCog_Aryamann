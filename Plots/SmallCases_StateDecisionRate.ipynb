{
 "cells": [
  {
   "cell_type": "code",
   "execution_count": 1,
   "id": "421dc7c7",
   "metadata": {},
   "outputs": [
    {
     "name": "stdout",
     "output_type": "stream",
     "text": [
      "Years, Months, Days between two dates is\n",
      "2 Years, 7 months, 2 days\n"
     ]
    }
   ],
   "source": [
    "from datetime import datetime\n",
    "from dateutil import relativedelta\n",
    "\n",
    "# get two dates\n",
    "d1 = '14/8/2019'\n",
    "d2 = '16/3/2022'\n",
    "\n",
    "# convert string to date object\n",
    "start_date = datetime.strptime(d1, \"%d/%m/%Y\")\n",
    "end_date = datetime.strptime(d2, \"%d/%m/%Y\")\n",
    "\n",
    "# Get the relativedelta between two dates\n",
    "delta = relativedelta.relativedelta(end_date, start_date)\n",
    "print('Years, Months, Days between two dates is')\n",
    "print(delta.years, 'Years,', delta.months, 'months,', delta.days, 'days')"
   ]
  },
  {
   "cell_type": "code",
   "execution_count": 2,
   "id": "9cce938d",
   "metadata": {},
   "outputs": [],
   "source": [
    "import pandas as pd\n",
    "import numpy as np\n",
    "import matplotlib.pyplot as plt"
   ]
  },
  {
   "cell_type": "code",
   "execution_count": 3,
   "id": "4b9d0856",
   "metadata": {},
   "outputs": [],
   "source": [
    "cases=pd.read_csv('C:\\\\Users\\\\Administrator\\\\Project\\\\csv\\\\cases\\\\cases_2018_raw.csv')"
   ]
  },
  {
   "cell_type": "code",
   "execution_count": 73,
   "id": "00b04de0",
   "metadata": {},
   "outputs": [],
   "source": [
    "def fn(dt1, dt2):\n",
    "    start_date = datetime.strptime(dt1, \"%Y-%m-%d\")\n",
    "    end_date = datetime.strptime(dt2, \"%Y-%m-%d\")\n",
    "    delta = relativedelta.relativedelta(end_date, start_date)\n",
    "    #time=str(delta.years)+'Yrs '+str(delta.months)+'Months '+str(delta.days)+'Days'\n",
    "    return delta.years+delta.months/12+delta.days/365"
   ]
  },
  {
   "cell_type": "code",
   "execution_count": 76,
   "id": "9fa2859d",
   "metadata": {},
   "outputs": [],
   "source": [
    "# l=[]\n",
    "# for i in range(len(cases)):\n",
    "#     if(type(cases.loc[i, 'date_of_decision'])!=float):\n",
    "#         l.append([cases.loc[i, 'date_of_filing'], cases.loc[i, 'date_of_decision']])\n",
    "\n",
    "# for i in range(500):\n",
    "#     print(fn(l[i][0], l[i][1]))"
   ]
  },
  {
   "cell_type": "code",
   "execution_count": 86,
   "id": "27a742e1",
   "metadata": {},
   "outputs": [],
   "source": [
    "df = cases[cases['date_of_decision'].notna()]"
   ]
  },
  {
   "cell_type": "code",
   "execution_count": 88,
   "id": "539828c0",
   "metadata": {},
   "outputs": [],
   "source": [
    "df1 = df[['state_code','date_of_filing','date_of_decision']].copy()"
   ]
  },
  {
   "cell_type": "code",
   "execution_count": 92,
   "id": "bbcbd00e",
   "metadata": {},
   "outputs": [],
   "source": [
    "df1['time_taken'] = df1.apply(lambda r : fn(r.date_of_filing, r.date_of_decision), axis=1)"
   ]
  },
  {
   "cell_type": "code",
   "execution_count": 93,
   "id": "e9f5ddb6",
   "metadata": {},
   "outputs": [
    {
     "data": {
      "text/html": [
       "<div>\n",
       "<style scoped>\n",
       "    .dataframe tbody tr th:only-of-type {\n",
       "        vertical-align: middle;\n",
       "    }\n",
       "\n",
       "    .dataframe tbody tr th {\n",
       "        vertical-align: top;\n",
       "    }\n",
       "\n",
       "    .dataframe thead th {\n",
       "        text-align: right;\n",
       "    }\n",
       "</style>\n",
       "<table border=\"1\" class=\"dataframe\">\n",
       "  <thead>\n",
       "    <tr style=\"text-align: right;\">\n",
       "      <th></th>\n",
       "      <th>state_code</th>\n",
       "      <th>date_of_filing</th>\n",
       "      <th>date_of_decision</th>\n",
       "      <th>time_taken</th>\n",
       "    </tr>\n",
       "  </thead>\n",
       "  <tbody>\n",
       "    <tr>\n",
       "      <th>0</th>\n",
       "      <td>1</td>\n",
       "      <td>2018-01-01</td>\n",
       "      <td>2018-02-07</td>\n",
       "      <td>0.099772</td>\n",
       "    </tr>\n",
       "    <tr>\n",
       "      <th>1</th>\n",
       "      <td>1</td>\n",
       "      <td>2018-01-01</td>\n",
       "      <td>2018-02-01</td>\n",
       "      <td>0.083333</td>\n",
       "    </tr>\n",
       "    <tr>\n",
       "      <th>2</th>\n",
       "      <td>1</td>\n",
       "      <td>2018-01-01</td>\n",
       "      <td>2018-02-01</td>\n",
       "      <td>0.083333</td>\n",
       "    </tr>\n",
       "    <tr>\n",
       "      <th>3</th>\n",
       "      <td>1</td>\n",
       "      <td>2018-01-01</td>\n",
       "      <td>2018-02-01</td>\n",
       "      <td>0.083333</td>\n",
       "    </tr>\n",
       "    <tr>\n",
       "      <th>4</th>\n",
       "      <td>1</td>\n",
       "      <td>2018-01-01</td>\n",
       "      <td>2018-01-09</td>\n",
       "      <td>0.021918</td>\n",
       "    </tr>\n",
       "    <tr>\n",
       "      <th>...</th>\n",
       "      <td>...</td>\n",
       "      <td>...</td>\n",
       "      <td>...</td>\n",
       "      <td>...</td>\n",
       "    </tr>\n",
       "    <tr>\n",
       "      <th>999987</th>\n",
       "      <td>1</td>\n",
       "      <td>2018-10-23</td>\n",
       "      <td>2019-10-01</td>\n",
       "      <td>0.938584</td>\n",
       "    </tr>\n",
       "    <tr>\n",
       "      <th>999990</th>\n",
       "      <td>1</td>\n",
       "      <td>2018-10-24</td>\n",
       "      <td>2019-01-08</td>\n",
       "      <td>0.207763</td>\n",
       "    </tr>\n",
       "    <tr>\n",
       "      <th>999991</th>\n",
       "      <td>1</td>\n",
       "      <td>2018-10-24</td>\n",
       "      <td>2018-12-20</td>\n",
       "      <td>0.154566</td>\n",
       "    </tr>\n",
       "    <tr>\n",
       "      <th>999994</th>\n",
       "      <td>1</td>\n",
       "      <td>2018-10-25</td>\n",
       "      <td>2018-11-30</td>\n",
       "      <td>0.097032</td>\n",
       "    </tr>\n",
       "    <tr>\n",
       "      <th>999995</th>\n",
       "      <td>1</td>\n",
       "      <td>2018-10-25</td>\n",
       "      <td>2020-02-15</td>\n",
       "      <td>1.307534</td>\n",
       "    </tr>\n",
       "  </tbody>\n",
       "</table>\n",
       "<p>443913 rows × 4 columns</p>\n",
       "</div>"
      ],
      "text/plain": [
       "        state_code date_of_filing date_of_decision  time_taken\n",
       "0                1     2018-01-01       2018-02-07    0.099772\n",
       "1                1     2018-01-01       2018-02-01    0.083333\n",
       "2                1     2018-01-01       2018-02-01    0.083333\n",
       "3                1     2018-01-01       2018-02-01    0.083333\n",
       "4                1     2018-01-01       2018-01-09    0.021918\n",
       "...            ...            ...              ...         ...\n",
       "999987           1     2018-10-23       2019-10-01    0.938584\n",
       "999990           1     2018-10-24       2019-01-08    0.207763\n",
       "999991           1     2018-10-24       2018-12-20    0.154566\n",
       "999994           1     2018-10-25       2018-11-30    0.097032\n",
       "999995           1     2018-10-25       2020-02-15    1.307534\n",
       "\n",
       "[443913 rows x 4 columns]"
      ]
     },
     "execution_count": 93,
     "metadata": {},
     "output_type": "execute_result"
    }
   ],
   "source": [
    "df1"
   ]
  },
  {
   "cell_type": "code",
   "execution_count": 95,
   "id": "adb74337",
   "metadata": {},
   "outputs": [
    {
     "data": {
      "text/plain": [
       "0.09977168949771689"
      ]
     },
     "execution_count": 95,
     "metadata": {},
     "output_type": "execute_result"
    }
   ],
   "source": [
    "fn('2018-01-01', '2018-02-07')"
   ]
  },
  {
   "cell_type": "code",
   "execution_count": null,
   "id": "4423c4cf",
   "metadata": {},
   "outputs": [],
   "source": []
  }
 ],
 "metadata": {
  "kernelspec": {
   "display_name": "Python 3 (ipykernel)",
   "language": "python",
   "name": "python3"
  },
  "language_info": {
   "codemirror_mode": {
    "name": "ipython",
    "version": 3
   },
   "file_extension": ".py",
   "mimetype": "text/x-python",
   "name": "python",
   "nbconvert_exporter": "python",
   "pygments_lexer": "ipython3",
   "version": "3.11.0"
  }
 },
 "nbformat": 4,
 "nbformat_minor": 5
}
