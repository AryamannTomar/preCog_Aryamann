{
 "cells": [
  {
   "cell_type": "code",
   "execution_count": 1,
   "id": "6ea3b67e",
   "metadata": {},
   "outputs": [],
   "source": [
    "import pandas as pd\n",
    "import numpy as np\n",
    "import matplotlib.pyplot as plt\n",
    "cases=pd.read_csv('C:\\\\Users\\\\Administrator\\\\Project\\\\csv\\\\cases\\\\cases_2018.csv')"
   ]
  },
  {
   "cell_type": "code",
   "execution_count": 2,
   "id": "60f8c140",
   "metadata": {},
   "outputs": [],
   "source": [
    "def fn(dt1, dt2):\n",
    "    start_date = datetime.strptime(dt1, \"%Y-%m-%d\")\n",
    "    end_date = datetime.strptime(dt2, \"%Y-%m-%d\")\n",
    "    delta = relativedelta.relativedelta(end_date, start_date)\n",
    "    #time=str(delta.years)+'Yrs '+str(delta.months)+'Months '+str(delta.days)+'Days'\n",
    "    return delta.years+delta.months/12+delta.days/365"
   ]
  },
  {
   "cell_type": "code",
   "execution_count": 3,
   "id": "6ce6c0ce",
   "metadata": {},
   "outputs": [],
   "source": [
    "from datetime import datetime\n",
    "from dateutil import relativedelta\n",
    "df1 = cases[['state_code','date_of_filing','date_of_decision']].copy()"
   ]
  },
  {
   "cell_type": "code",
   "execution_count": 4,
   "id": "b66991e5",
   "metadata": {},
   "outputs": [],
   "source": [
    "df = cases[cases['date_of_decision'].notna()]"
   ]
  },
  {
   "cell_type": "code",
   "execution_count": 5,
   "id": "106e10ab",
   "metadata": {},
   "outputs": [
    {
     "data": {
      "text/html": [
       "<div>\n",
       "<style scoped>\n",
       "    .dataframe tbody tr th:only-of-type {\n",
       "        vertical-align: middle;\n",
       "    }\n",
       "\n",
       "    .dataframe tbody tr th {\n",
       "        vertical-align: top;\n",
       "    }\n",
       "\n",
       "    .dataframe thead th {\n",
       "        text-align: right;\n",
       "    }\n",
       "</style>\n",
       "<table border=\"1\" class=\"dataframe\">\n",
       "  <thead>\n",
       "    <tr style=\"text-align: right;\">\n",
       "      <th></th>\n",
       "      <th>state_code</th>\n",
       "      <th>date_of_filing</th>\n",
       "      <th>date_of_decision</th>\n",
       "      <th>time_taken</th>\n",
       "    </tr>\n",
       "  </thead>\n",
       "  <tbody>\n",
       "    <tr>\n",
       "      <th>0</th>\n",
       "      <td>1</td>\n",
       "      <td>2018-01-01</td>\n",
       "      <td>2018-02-07</td>\n",
       "      <td>0.099772</td>\n",
       "    </tr>\n",
       "    <tr>\n",
       "      <th>1</th>\n",
       "      <td>1</td>\n",
       "      <td>2018-01-01</td>\n",
       "      <td>2018-02-01</td>\n",
       "      <td>0.083333</td>\n",
       "    </tr>\n",
       "    <tr>\n",
       "      <th>2</th>\n",
       "      <td>1</td>\n",
       "      <td>2018-01-01</td>\n",
       "      <td>2018-02-01</td>\n",
       "      <td>0.083333</td>\n",
       "    </tr>\n",
       "  </tbody>\n",
       "</table>\n",
       "</div>"
      ],
      "text/plain": [
       "   state_code date_of_filing date_of_decision  time_taken\n",
       "0           1     2018-01-01       2018-02-07    0.099772\n",
       "1           1     2018-01-01       2018-02-01    0.083333\n",
       "2           1     2018-01-01       2018-02-01    0.083333"
      ]
     },
     "execution_count": 5,
     "metadata": {},
     "output_type": "execute_result"
    }
   ],
   "source": [
    "df1['time_taken'] = df.apply(lambda r : fn(r.date_of_filing, r.date_of_decision), axis=1)\n",
    "df1.head(3)"
   ]
  },
  {
   "cell_type": "code",
   "execution_count": 6,
   "id": "b9d71cfe",
   "metadata": {},
   "outputs": [],
   "source": [
    "df2=pd.DataFrame(df1.groupby('state_code')['time_taken'].mean())"
   ]
  },
  {
   "cell_type": "code",
   "execution_count": 7,
   "id": "4758865b",
   "metadata": {},
   "outputs": [
    {
     "data": {
      "text/html": [
       "<div>\n",
       "<style scoped>\n",
       "    .dataframe tbody tr th:only-of-type {\n",
       "        vertical-align: middle;\n",
       "    }\n",
       "\n",
       "    .dataframe tbody tr th {\n",
       "        vertical-align: top;\n",
       "    }\n",
       "\n",
       "    .dataframe thead th {\n",
       "        text-align: right;\n",
       "    }\n",
       "</style>\n",
       "<table border=\"1\" class=\"dataframe\">\n",
       "  <thead>\n",
       "    <tr style=\"text-align: right;\">\n",
       "      <th></th>\n",
       "      <th>time_taken</th>\n",
       "    </tr>\n",
       "    <tr>\n",
       "      <th>state_code</th>\n",
       "      <th></th>\n",
       "    </tr>\n",
       "  </thead>\n",
       "  <tbody>\n",
       "    <tr>\n",
       "      <th>1</th>\n",
       "      <td>0.213865</td>\n",
       "    </tr>\n",
       "    <tr>\n",
       "      <th>2</th>\n",
       "      <td>0.271148</td>\n",
       "    </tr>\n",
       "    <tr>\n",
       "      <th>3</th>\n",
       "      <td>0.173410</td>\n",
       "    </tr>\n",
       "  </tbody>\n",
       "</table>\n",
       "</div>"
      ],
      "text/plain": [
       "            time_taken\n",
       "state_code            \n",
       "1             0.213865\n",
       "2             0.271148\n",
       "3             0.173410"
      ]
     },
     "execution_count": 7,
     "metadata": {},
     "output_type": "execute_result"
    }
   ],
   "source": [
    "df2.head(3)"
   ]
  },
  {
   "cell_type": "code",
   "execution_count": 8,
   "id": "dbf0d9b0",
   "metadata": {},
   "outputs": [],
   "source": [
    "key=pd.read_csv('C:\\\\Users\\\\Administrator\\\\Project\\\\csv\\\\keys\\\\cases_court_key.csv')"
   ]
  },
  {
   "cell_type": "code",
   "execution_count": 9,
   "id": "d377988d",
   "metadata": {},
   "outputs": [
    {
     "data": {
      "text/html": [
       "<div>\n",
       "<style scoped>\n",
       "    .dataframe tbody tr th:only-of-type {\n",
       "        vertical-align: middle;\n",
       "    }\n",
       "\n",
       "    .dataframe tbody tr th {\n",
       "        vertical-align: top;\n",
       "    }\n",
       "\n",
       "    .dataframe thead th {\n",
       "        text-align: right;\n",
       "    }\n",
       "</style>\n",
       "<table border=\"1\" class=\"dataframe\">\n",
       "  <thead>\n",
       "    <tr style=\"text-align: right;\">\n",
       "      <th></th>\n",
       "      <th>year</th>\n",
       "      <th>state_code</th>\n",
       "      <th>state_name</th>\n",
       "      <th>district_name</th>\n",
       "      <th>dist_code</th>\n",
       "      <th>court_no</th>\n",
       "      <th>court_name</th>\n",
       "    </tr>\n",
       "  </thead>\n",
       "  <tbody>\n",
       "    <tr>\n",
       "      <th>0</th>\n",
       "      <td>2010</td>\n",
       "      <td>1</td>\n",
       "      <td>Maharashtra</td>\n",
       "      <td>Nandurbar</td>\n",
       "      <td>1</td>\n",
       "      <td>1</td>\n",
       "      <td>Chief Judcial Magistrate Nandurbar</td>\n",
       "    </tr>\n",
       "    <tr>\n",
       "      <th>1</th>\n",
       "      <td>2010</td>\n",
       "      <td>1</td>\n",
       "      <td>Maharashtra</td>\n",
       "      <td>Nandurbar</td>\n",
       "      <td>1</td>\n",
       "      <td>2</td>\n",
       "      <td>Civil Court Senior Division Nandurbar</td>\n",
       "    </tr>\n",
       "    <tr>\n",
       "      <th>2</th>\n",
       "      <td>2010</td>\n",
       "      <td>1</td>\n",
       "      <td>Maharashtra</td>\n",
       "      <td>Nandurbar</td>\n",
       "      <td>1</td>\n",
       "      <td>3</td>\n",
       "      <td>DISTRICT AND SESSIONS COURT, NANDURBAR</td>\n",
       "    </tr>\n",
       "  </tbody>\n",
       "</table>\n",
       "</div>"
      ],
      "text/plain": [
       "   year  state_code   state_name district_name  dist_code  court_no  \\\n",
       "0  2010           1  Maharashtra     Nandurbar          1         1   \n",
       "1  2010           1  Maharashtra     Nandurbar          1         2   \n",
       "2  2010           1  Maharashtra     Nandurbar          1         3   \n",
       "\n",
       "                               court_name  \n",
       "0      Chief Judcial Magistrate Nandurbar  \n",
       "1   Civil Court Senior Division Nandurbar  \n",
       "2  DISTRICT AND SESSIONS COURT, NANDURBAR  "
      ]
     },
     "execution_count": 9,
     "metadata": {},
     "output_type": "execute_result"
    }
   ],
   "source": [
    "key.head(3)"
   ]
  },
  {
   "cell_type": "code",
   "execution_count": 10,
   "id": "3723113f",
   "metadata": {},
   "outputs": [],
   "source": [
    "d={}\n",
    "for i in range(len(key)):\n",
    "    if(key.loc[i, \"state_code\"] not in d.keys()):\n",
    "        d[key.loc[i, \"state_code\"]]=key.loc[i, \"state_name\"]"
   ]
  },
  {
   "cell_type": "code",
   "execution_count": 11,
   "id": "1996e671",
   "metadata": {},
   "outputs": [
    {
     "data": {
      "text/html": [
       "<div>\n",
       "<style scoped>\n",
       "    .dataframe tbody tr th:only-of-type {\n",
       "        vertical-align: middle;\n",
       "    }\n",
       "\n",
       "    .dataframe tbody tr th {\n",
       "        vertical-align: top;\n",
       "    }\n",
       "\n",
       "    .dataframe thead th {\n",
       "        text-align: right;\n",
       "    }\n",
       "</style>\n",
       "<table border=\"1\" class=\"dataframe\">\n",
       "  <thead>\n",
       "    <tr style=\"text-align: right;\">\n",
       "      <th></th>\n",
       "      <th>time_taken</th>\n",
       "      <th>index1</th>\n",
       "      <th>state_name</th>\n",
       "    </tr>\n",
       "    <tr>\n",
       "      <th>state_code</th>\n",
       "      <th></th>\n",
       "      <th></th>\n",
       "      <th></th>\n",
       "    </tr>\n",
       "  </thead>\n",
       "  <tbody>\n",
       "    <tr>\n",
       "      <th>1</th>\n",
       "      <td>0.213865</td>\n",
       "      <td>1</td>\n",
       "      <td>Maharashtra</td>\n",
       "    </tr>\n",
       "    <tr>\n",
       "      <th>2</th>\n",
       "      <td>0.271148</td>\n",
       "      <td>2</td>\n",
       "      <td>Andhra Pradesh</td>\n",
       "    </tr>\n",
       "    <tr>\n",
       "      <th>3</th>\n",
       "      <td>0.173410</td>\n",
       "      <td>3</td>\n",
       "      <td>Karnataka</td>\n",
       "    </tr>\n",
       "  </tbody>\n",
       "</table>\n",
       "</div>"
      ],
      "text/plain": [
       "            time_taken  index1      state_name\n",
       "state_code                                    \n",
       "1             0.213865       1     Maharashtra\n",
       "2             0.271148       2  Andhra Pradesh\n",
       "3             0.173410       3       Karnataka"
      ]
     },
     "execution_count": 11,
     "metadata": {},
     "output_type": "execute_result"
    }
   ],
   "source": [
    "df2['index1'] = df2.index\n",
    "for i in range(1,34):\n",
    "    if(i!=28):\n",
    "        df2['state_name']=d[i]\n",
    "for i in range(1, len(df2)):\n",
    "    if(i!=28):\n",
    "        df2.loc[i, \"state_name\"] = d[df2.loc[i, \"index1\"]]\n",
    "df2.head(3)"
   ]
  },
  {
   "cell_type": "code",
   "execution_count": 12,
   "id": "a1af35ff",
   "metadata": {},
   "outputs": [
    {
     "data": {
      "image/png": "[encoded data removed]",
      "text/plain": [
       "<Figure size 1500x400 with 1 Axes>"
      ]
     },
     "metadata": {},
     "output_type": "display_data"
    }
   ],
   "source": [
    "threshold=df2[\"time_taken\"].mean()\n",
    "df2.plot(x = \"state_name\", y = \"time_taken\", kind = \"bar\", figsize=(15, 4), legend=True)\n",
    "plt.axhline(y=threshold, color='r', linestyle='--')\n",
    "plt.title(\"Average Time(Years) to decide a Case - StateWise\")\n",
    "plt.show()"
   ]
  },
  {
   "cell_type": "code",
   "execution_count": null,
   "id": "a75dbf5e",
   "metadata": {},
   "outputs": [],
   "source": []
  }
 ],
 "metadata": {
  "kernelspec": {
   "display_name": "Python 3 (ipykernel)",
   "language": "python",
   "name": "python3"
  },
  "language_info": {
   "codemirror_mode": {
    "name": "ipython",
    "version": 3
   },
   "file_extension": ".py",
   "mimetype": "text/x-python",
   "name": "python",
   "nbconvert_exporter": "python",
   "pygments_lexer": "ipython3",
   "version": "3.11.0"
  }
 },
 "nbformat": 4,
 "nbformat_minor": 5
}
