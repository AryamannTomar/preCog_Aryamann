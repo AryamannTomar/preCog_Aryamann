{
 "cells": [
  {
   "cell_type": "code",
   "execution_count": 1,
   "id": "87bc1387",
   "metadata": {},
   "outputs": [],
   "source": [
    "import pandas as pd\n",
    "import numpy as np\n",
    "import random as rd\n",
    "import matplotlib.pyplot as plt"
   ]
  },
  {
   "cell_type": "code",
   "execution_count": 2,
   "id": "d2e4d6ee",
   "metadata": {},
   "outputs": [],
   "source": [
    "df = pd.read_csv('..\\\\csv\\\\judges_clean.csv')"
   ]
  },
  {
   "cell_type": "code",
   "execution_count": 3,
   "id": "f4522b37",
   "metadata": {},
   "outputs": [
    {
     "data": {
      "text/plain": [
       "0 nonfemale      67540\n",
       "1 female         27202\n",
       "-9998 unclear     3735\n",
       "Name: female_judge, dtype: int64"
      ]
     },
     "execution_count": 3,
     "metadata": {},
     "output_type": "execute_result"
    }
   ],
   "source": [
    "df['female_judge'].value_counts()"
   ]
  },
  {
   "cell_type": "code",
   "execution_count": 4,
   "id": "34118bfc",
   "metadata": {},
   "outputs": [],
   "source": [
    "df.drop(df[df['female_judge'] == '-9998 unclear'].index, inplace = True)"
   ]
  },
  {
   "cell_type": "code",
   "execution_count": 5,
   "id": "cc75e269",
   "metadata": {},
   "outputs": [
    {
     "data": {
      "text/plain": [
       "0 nonfemale    67540\n",
       "1 female       27202\n",
       "Name: female_judge, dtype: int64"
      ]
     },
     "execution_count": 5,
     "metadata": {},
     "output_type": "execute_result"
    }
   ],
   "source": [
    "df['female_judge'].value_counts()"
   ]
  },
  {
   "cell_type": "code",
   "execution_count": 6,
   "id": "b03b2419",
   "metadata": {},
   "outputs": [],
   "source": [
    "df3 = pd.DataFrame(df.groupby(['state_code', 'female_judge'])['female_judge'].count()) #Tocheck if Correct or Not"
   ]
  },
  {
   "cell_type": "code",
   "execution_count": 7,
   "id": "7ed009bc",
   "metadata": {},
   "outputs": [],
   "source": [
    "l=df.groupby(['state_code', 'female_judge'])['female_judge'].count().tolist()\n",
    "i=0\n",
    "p=[]\n",
    "while (i < len(l)):\n",
    "    p.append(l[i]/l[i+1]*100)\n",
    "    i+=2"
   ]
  },
  {
   "cell_type": "code",
   "execution_count": 8,
   "id": "1b2cf063",
   "metadata": {},
   "outputs": [],
   "source": [
    "key = pd.read_csv('..\\\\csv\\\\keys\\\\cases_court_key.csv')\n",
    "df_key = (key.drop_duplicates('state_code'))[['state_code', 'state_name']]\n",
    "df1 = df_key[:-3]\n",
    "df1=df1.reset_index(drop=True)"
   ]
  },
  {
   "cell_type": "code",
   "execution_count": 9,
   "id": "d21845ef",
   "metadata": {},
   "outputs": [],
   "source": [
    "for i in range(0, 29):\n",
    "        df1.loc[i, \"count\"] = p[i]"
   ]
  },
  {
   "cell_type": "code",
   "execution_count": 10,
   "id": "46a275c0",
   "metadata": {},
   "outputs": [
    {
     "data": {
      "text/html": [
       "<div>\n",
       "<style scoped>\n",
       "    .dataframe tbody tr th:only-of-type {\n",
       "        vertical-align: middle;\n",
       "    }\n",
       "\n",
       "    .dataframe tbody tr th {\n",
       "        vertical-align: top;\n",
       "    }\n",
       "\n",
       "    .dataframe thead th {\n",
       "        text-align: right;\n",
       "    }\n",
       "</style>\n",
       "<table border=\"1\" class=\"dataframe\">\n",
       "  <thead>\n",
       "    <tr style=\"text-align: right;\">\n",
       "      <th></th>\n",
       "      <th>state_code</th>\n",
       "      <th>state_name</th>\n",
       "      <th>count</th>\n",
       "    </tr>\n",
       "  </thead>\n",
       "  <tbody>\n",
       "    <tr>\n",
       "      <th>0</th>\n",
       "      <td>1</td>\n",
       "      <td>Maharashtra</td>\n",
       "      <td>252.864709</td>\n",
       "    </tr>\n",
       "    <tr>\n",
       "      <th>1</th>\n",
       "      <td>2</td>\n",
       "      <td>Andhra Pradesh</td>\n",
       "      <td>184.828711</td>\n",
       "    </tr>\n",
       "    <tr>\n",
       "      <th>2</th>\n",
       "      <td>3</td>\n",
       "      <td>Karnataka</td>\n",
       "      <td>212.015504</td>\n",
       "    </tr>\n",
       "    <tr>\n",
       "      <th>3</th>\n",
       "      <td>4</td>\n",
       "      <td>Kerala</td>\n",
       "      <td>254.166667</td>\n",
       "    </tr>\n",
       "    <tr>\n",
       "      <th>4</th>\n",
       "      <td>5</td>\n",
       "      <td>Himachal Pradesh</td>\n",
       "      <td>255.952381</td>\n",
       "    </tr>\n",
       "    <tr>\n",
       "      <th>5</th>\n",
       "      <td>6</td>\n",
       "      <td>Assam</td>\n",
       "      <td>152.854812</td>\n",
       "    </tr>\n",
       "    <tr>\n",
       "      <th>6</th>\n",
       "      <td>7</td>\n",
       "      <td>Jharkhand</td>\n",
       "      <td>901.315789</td>\n",
       "    </tr>\n",
       "    <tr>\n",
       "      <th>7</th>\n",
       "      <td>8</td>\n",
       "      <td>Bihar</td>\n",
       "      <td>1398.545455</td>\n",
       "    </tr>\n",
       "    <tr>\n",
       "      <th>8</th>\n",
       "      <td>9</td>\n",
       "      <td>Rajasthan</td>\n",
       "      <td>216.686251</td>\n",
       "    </tr>\n",
       "    <tr>\n",
       "      <th>9</th>\n",
       "      <td>10</td>\n",
       "      <td>Tamil Nadu</td>\n",
       "      <td>179.220779</td>\n",
       "    </tr>\n",
       "    <tr>\n",
       "      <th>10</th>\n",
       "      <td>11</td>\n",
       "      <td>Orissa</td>\n",
       "      <td>201.632047</td>\n",
       "    </tr>\n",
       "    <tr>\n",
       "      <th>11</th>\n",
       "      <td>12</td>\n",
       "      <td>Jammu and Kashmir</td>\n",
       "      <td>507.432432</td>\n",
       "    </tr>\n",
       "    <tr>\n",
       "      <th>12</th>\n",
       "      <td>13</td>\n",
       "      <td>Uttar Pradesh</td>\n",
       "      <td>375.348048</td>\n",
       "    </tr>\n",
       "    <tr>\n",
       "      <th>13</th>\n",
       "      <td>14</td>\n",
       "      <td>Haryana</td>\n",
       "      <td>181.674757</td>\n",
       "    </tr>\n",
       "    <tr>\n",
       "      <th>14</th>\n",
       "      <td>15</td>\n",
       "      <td>Uttarakhand</td>\n",
       "      <td>154.245283</td>\n",
       "    </tr>\n",
       "    <tr>\n",
       "      <th>15</th>\n",
       "      <td>16</td>\n",
       "      <td>West Bengal</td>\n",
       "      <td>229.679803</td>\n",
       "    </tr>\n",
       "    <tr>\n",
       "      <th>16</th>\n",
       "      <td>17</td>\n",
       "      <td>Gujarat</td>\n",
       "      <td>120.053357</td>\n",
       "    </tr>\n",
       "    <tr>\n",
       "      <th>17</th>\n",
       "      <td>18</td>\n",
       "      <td>Chhattisgarh</td>\n",
       "      <td>200.000000</td>\n",
       "    </tr>\n",
       "    <tr>\n",
       "      <th>18</th>\n",
       "      <td>19</td>\n",
       "      <td>Mizoram</td>\n",
       "      <td>54.166667</td>\n",
       "    </tr>\n",
       "    <tr>\n",
       "      <th>19</th>\n",
       "      <td>20</td>\n",
       "      <td>Tripura</td>\n",
       "      <td>256.097561</td>\n",
       "    </tr>\n",
       "    <tr>\n",
       "      <th>20</th>\n",
       "      <td>21</td>\n",
       "      <td>Meghalaya</td>\n",
       "      <td>60.869565</td>\n",
       "    </tr>\n",
       "    <tr>\n",
       "      <th>21</th>\n",
       "      <td>22</td>\n",
       "      <td>Punjab</td>\n",
       "      <td>142.244641</td>\n",
       "    </tr>\n",
       "    <tr>\n",
       "      <th>22</th>\n",
       "      <td>23</td>\n",
       "      <td>Madhya Pradesh</td>\n",
       "      <td>356.127451</td>\n",
       "    </tr>\n",
       "    <tr>\n",
       "      <th>23</th>\n",
       "      <td>24</td>\n",
       "      <td>Sikkim</td>\n",
       "      <td>70.103093</td>\n",
       "    </tr>\n",
       "    <tr>\n",
       "      <th>24</th>\n",
       "      <td>25</td>\n",
       "      <td>Manipur</td>\n",
       "      <td>100.000000</td>\n",
       "    </tr>\n",
       "    <tr>\n",
       "      <th>25</th>\n",
       "      <td>26</td>\n",
       "      <td>Delhi</td>\n",
       "      <td>183.463035</td>\n",
       "    </tr>\n",
       "    <tr>\n",
       "      <th>26</th>\n",
       "      <td>27</td>\n",
       "      <td>Chandigarh</td>\n",
       "      <td>174.509804</td>\n",
       "    </tr>\n",
       "    <tr>\n",
       "      <th>27</th>\n",
       "      <td>29</td>\n",
       "      <td>Telangana</td>\n",
       "      <td>189.515220</td>\n",
       "    </tr>\n",
       "    <tr>\n",
       "      <th>28</th>\n",
       "      <td>30</td>\n",
       "      <td>Goa</td>\n",
       "      <td>97.560976</td>\n",
       "    </tr>\n",
       "  </tbody>\n",
       "</table>\n",
       "</div>"
      ],
      "text/plain": [
       "    state_code         state_name        count\n",
       "0            1        Maharashtra   252.864709\n",
       "1            2     Andhra Pradesh   184.828711\n",
       "2            3          Karnataka   212.015504\n",
       "3            4             Kerala   254.166667\n",
       "4            5   Himachal Pradesh   255.952381\n",
       "5            6              Assam   152.854812\n",
       "6            7          Jharkhand   901.315789\n",
       "7            8              Bihar  1398.545455\n",
       "8            9          Rajasthan   216.686251\n",
       "9           10         Tamil Nadu   179.220779\n",
       "10          11             Orissa   201.632047\n",
       "11          12  Jammu and Kashmir   507.432432\n",
       "12          13      Uttar Pradesh   375.348048\n",
       "13          14            Haryana   181.674757\n",
       "14          15        Uttarakhand   154.245283\n",
       "15          16        West Bengal   229.679803\n",
       "16          17            Gujarat   120.053357\n",
       "17          18       Chhattisgarh   200.000000\n",
       "18          19            Mizoram    54.166667\n",
       "19          20            Tripura   256.097561\n",
       "20          21          Meghalaya    60.869565\n",
       "21          22             Punjab   142.244641\n",
       "22          23     Madhya Pradesh   356.127451\n",
       "23          24             Sikkim    70.103093\n",
       "24          25            Manipur   100.000000\n",
       "25          26              Delhi   183.463035\n",
       "26          27         Chandigarh   174.509804\n",
       "27          29          Telangana   189.515220\n",
       "28          30                Goa    97.560976"
      ]
     },
     "execution_count": 10,
     "metadata": {},
     "output_type": "execute_result"
    }
   ],
   "source": [
    "df1"
   ]
  },
  {
   "cell_type": "code",
   "execution_count": 11,
   "id": "62f93e7e",
   "metadata": {},
   "outputs": [
    {
     "data": {
      "image/png": "[encoded data removed]",
      "text/plain": [
       "<Figure size 1000x400 with 1 Axes>"
      ]
     },
     "metadata": {},
     "output_type": "display_data"
    }
   ],
   "source": [
    "max=df1[\"count\"].max()\n",
    "df1.plot(x = \"state_name\", y = \"count\", kind = \"bar\", figsize=(10, 4), legend=True)\n",
    "plt.axhline(y=100, color='g', linestyle='--')\n",
    "plt.axhline(y=max, color='r', linestyle='--')\n",
    "plt.title(\"GenderRatio_StateWise\")\n",
    "plt.show()"
   ]
  },
  {
   "cell_type": "code",
   "execution_count": null,
   "id": "d8f5b61d",
   "metadata": {},
   "outputs": [],
   "source": []
  }
 ],
 "metadata": {
  "kernelspec": {
   "display_name": "Python 3 (ipykernel)",
   "language": "python",
   "name": "python3"
  },
  "language_info": {
   "codemirror_mode": {
    "name": "ipython",
    "version": 3
   },
   "file_extension": ".py",
   "mimetype": "text/x-python",
   "name": "python",
   "nbconvert_exporter": "python",
   "pygments_lexer": "ipython3",
   "version": "3.11.0"
  }
 },
 "nbformat": 4,
 "nbformat_minor": 5
}
